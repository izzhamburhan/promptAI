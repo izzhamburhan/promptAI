{
 "cells": [
  {
   "cell_type": "code",
   "execution_count": 1,
   "metadata": {},
   "outputs": [],
   "source": [
    "import os\n",
    "import openai\n",
    "\n",
    "from dotenv import load_dotenv, find_dotenv\n",
    "_ = load_dotenv(find_dotenv()) # read local .env file\n",
    "\n",
    "openai.api_key  = os.environ['OPENAI_API_KEY']"
   ]
  },
  {
   "cell_type": "code",
   "execution_count": 2,
   "metadata": {},
   "outputs": [],
   "source": [
    "def get_completion(prompt, model=\"gpt-3.5-turbo\"):\n",
    "    messages = [{\"role\": \"user\", \"content\": prompt}]\n",
    "    response = openai.ChatCompletion.create(\n",
    "        model=model,\n",
    "        messages=messages,\n",
    "        temperature=0, # this is the degree of randomness of the model's output\n",
    "    )\n",
    "    return response.choices[0].message[\"content\"]"
   ]
  },
  {
   "cell_type": "code",
   "execution_count": 3,
   "metadata": {},
   "outputs": [
    {
     "name": "stdout",
     "output_type": "stream",
     "text": [
      "To guide a model towards the desired output and reduce irrelevant or incorrect responses, it is important to provide clear and specific instructions, which can be achieved through longer prompts that offer more clarity and context.\n"
     ]
    }
   ],
   "source": [
    "text = f\"\"\"\n",
    "You should express what you want a model to do by \\ \n",
    "providing instructions that are as clear and \\ \n",
    "specific as you can possibly make them. \\ \n",
    "This will guide the model towards the desired output, \\ \n",
    "and reduce the chances of receiving irrelevant \\ \n",
    "or incorrect responses. Don't confuse writing a \\ \n",
    "clear prompt with writing a short prompt. \\ \n",
    "In many cases, longer prompts provide more clarity \\ \n",
    "and context for the model, which can lead to \\ \n",
    "more detailed and relevant outputs.\n",
    "\"\"\"\n",
    "prompt = f\"\"\"\n",
    "Summarize the text delimited by triple backticks \\ \n",
    "into a single sentence.\n",
    "```{text}```\n",
    "\"\"\"\n",
    "response = get_completion(prompt)\n",
    "print(response)"
   ]
  },
  {
   "cell_type": "code",
   "execution_count": 4,
   "metadata": {},
   "outputs": [],
   "source": [
    "fact_sheet_sdg_events = \"\"\"\n",
    "OVERVIEW\n",
    "Engage in a series of impactful Sustainable Development Goals (SDG) events designed to promote positive change and global sustainability.\n",
    "Explore a diverse range of activities and initiatives aimed at raising awareness, driving action, and contributing to the achievement of the United Nations' SDGs.\n",
    "Participate in activities suitable for individuals, communities, and organizations passionate about addressing pressing global challenges.\n",
    "ACTIVITIES\n",
    "\n",
    "Sustainable Workshops and Seminars:\n",
    "- Join interactive workshops and seminars focused on various SDGs, such as climate action, gender equality, clean energy, and more.\n",
    "- Gain insights from expert speakers, practitioners, and thought leaders in the field of sustainability.\n",
    "- Learn practical solutions, best practices, and strategies to make a meaningful impact.\n",
    "\n",
    "Environmental Cleanup Drives:\n",
    "- Take part in local cleanup initiatives to promote responsible consumption and sustainable waste management.\n",
    "- Contribute to improving the environment and raising awareness about the significance of preserving natural resources.\n",
    "\n",
    "Community Planting Events:\n",
    "- Engage in tree planting campaigns to combat deforestation and enhance urban green spaces.\n",
    "- Play a direct role in increasing biodiversity, mitigating climate change, and creating a more sustainable ecosystem.\n",
    "\n",
    "Awareness Campaigns and Art Exhibitions:\n",
    "-Participate in creative activities like art exhibitions, photo contests, and social media campaigns to raise SDG awareness.\n",
    "-Utilize art as a powerful medium to communicate messages of sustainability, equity, and positive change.\n",
    "\n",
    "BENEFITS\n",
    "- Contribute to global efforts for SDG achievement and a more sustainable future.\n",
    "- Network and collaborate with like-minded individuals, organizations, and activists.\n",
    "- Enhance your understanding of critical global challenges and your role in addressing them.\n",
    "- Personal growth through educational workshops and hands-on activities.\n",
    "- Tangibly impact your community and the planet, leaving a positive legacy.\n",
    "\n",
    "ESTIMATED COST (in RM)\n",
    "-Sustainable Workshops and Seminars: RM 150 - RM 300 per participant.\n",
    "-Environmental Cleanup Drives: RM 20 - RM 50 per participant.\n",
    "-Community Planting Events: RM 30 - RM 60 per participant.\n",
    "-Awareness Campaigns and Art Exhibitions: Varies based on event scale.\n",
    "\n",
    "COUNTRY OF ORIGIN\n",
    "Events may take place globally, adapting to local contexts and needs.\n",
    "Get involved in SDG events to drive positive change, support sustainability, and make a difference in the world.\n",
    "\"\"\""
   ]
  },
  {
   "cell_type": "code",
   "execution_count": null,
   "metadata": {},
   "outputs": [],
   "source": [
    "prompt = f\"\"\"\n",
    "Your task is to help a IT team create a \n",
    "description for a landing page of an SDG event \n",
    "on a technical fact sheet.\n",
    "\n",
    "Write a activities description based on the information \n",
    "provided in the technical specifications delimited by \n",
    "triple backticks.\n",
    "\n",
    "The description is intended for the SDG activities, \n",
    "so should be technical in nature and focus on the \n",
    "materials the activities is constructed from.\n",
    "\n",
    "At the end of the description, include every 7-character \n",
    "activity ID in the technical specification.\n",
    "\n",
    "After the activitiy name , activities description, benefit and estimated cost,\n",
    "include a table that gives the \n",
    "activities informations. The table should have four columns.\n",
    "In the first column include the name of the activites. \n",
    "In the second column include the description of the activities.\n",
    "In the third column include the benefit of it.\n",
    "In the forth column include the estimated cost for each activities.\n",
    "\n",
    "Give the table the title 'Activities information'.\n",
    "\n",
    "Format everything as HTML that can be used in a website. \n",
    "Place the description in a <div> element.\n",
    "\n",
    "Technical specifications: ```{fact_sheet_sdg_events}```\n",
    "\"\"\"\n",
    "\n",
    "response = get_completion(prompt)\n",
    "print(response)"
   ]
  },
  {
   "cell_type": "code",
   "execution_count": null,
   "metadata": {},
   "outputs": [],
   "source": [
    "from IPython.display import display, HTML\n",
    "display(HTML(response))"
   ]
  },
  {
   "cell_type": "code",
   "execution_count": null,
   "metadata": {},
   "outputs": [],
   "source": []
  }
 ],
 "metadata": {
  "kernelspec": {
   "display_name": "Python 3 (ipykernel)",
   "language": "python",
   "name": "python3"
  },
  "language_info": {
   "codemirror_mode": {
    "name": "ipython",
    "version": 3
   },
   "file_extension": ".py",
   "mimetype": "text/x-python",
   "name": "python",
   "nbconvert_exporter": "python",
   "pygments_lexer": "ipython3",
   "version": "3.9.13"
  }
 },
 "nbformat": 4,
 "nbformat_minor": 4
}

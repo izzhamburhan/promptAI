{
 "cells": [
  {
   "cell_type": "code",
   "execution_count": 1,
   "metadata": {},
   "outputs": [],
   "source": [
    "import os\n",
    "import openai\n",
    "import sys\n",
    "from dotenv import load_dotenv, find_dotenv\n",
    "_ = load_dotenv(find_dotenv())\n",
    "\n",
    "openai.api_key  = os.environ['OPENAI_API_KEY']"
   ]
  },
  {
   "cell_type": "code",
   "execution_count": 7,
   "metadata": {},
   "outputs": [],
   "source": [
    "def get_completion_from_messages(messages,\n",
    "                                 model=\"gpt-3.5-turbo\",\n",
    "                                 temperature=0, max_tokens=500):\n",
    "    response = openai.ChatCompletion.create(\n",
    "        model=model,\n",
    "        messages=messages,\n",
    "        temperature = temperature,\n",
    "        max_tokens = max_tokens,\n",
    "    )\n",
    "\n",
    "    return response.choices[0].message['content']"
   ]
  },
  {
   "cell_type": "code",
   "execution_count": 5,
   "metadata": {},
   "outputs": [],
   "source": [
    "delimiter = \"####\"\n",
    "system_message = f\"\"\"\n",
    "Follow these steps to answer the customer queries \\\n",
    "about data science services.\n",
    "The customer query will be delimited with four hashtags, i.e. {delimiter}.\n",
    "\n",
    "Step 1:{delimiter} First decide whether the user \\\n",
    "is asking a question about a specific data science \\ \n",
    " service or services. Service category doesn't count. \n",
    "\n",
    "Step 2:{delimiter} If the user is asking about \\\n",
    "specific data science services, identify whether \\\n",
    " the services are in the following list. \\\n",
    "All available data science services: \\\n",
    "1. Service: Predictive Modeling\\\n",
    "   Description: Building predictive models using \\\n",
    "   machine learning algorithms to forecast future \\\n",
    "   outcomes based on historical data.\\\n",
    "   Price: $1999.99 per model\n",
    "\n",
    "2. Service: Data Visualization \\\n",
    "   Description: Creating visual representations of \\\n",
    "   data using graphs, charts, and dashboards to help \\\n",
    "   clients understand trends and patterns.\\\n",
    "   Price: $999.99 per visualization\n",
    "\n",
    "3. Service: Natural Language Processing\n",
    "   Description: Developing algorithms and models that \\\n",
    "   enable computers to understand and generate human \\\n",
    "   language for text analysis and sentiment analysis.\\\n",
    "   Price: $2499.99 per project\n",
    "\n",
    "4. Service: Data Cleaning and Preprocessing\n",
    "   Description: Identifying and correcting errors or \\\n",
    "   inconsistencies in data to ensure accuracy and \\\n",
    "   reliability for analysis.\\\n",
    "   Price: $499.99 per dataset\n",
    "\n",
    "5. Service: Machine Learning Consulting\n",
    "   Description: Providing expert guidance and recommendations \\\n",
    "   on implementing machine learning solutions to solve specific \\\n",
    "   business problems.\\\n",
    "   Price: Custom pricing based on project complexity\n",
    "\n",
    "Step 3:{delimiter} If the message contains data science services \\\n",
    "in the list above, list any assumptions that the user is making in \\\n",
    "their message e.g. that Service X includes feature selection, or that\\\n",
    " Service Y can handle unstructured text data.\n",
    "\n",
    "Step 4:{delimiter} If the user made any assumptions, figure out whether\\\n",
    " the assumption is true based on your service information.\n",
    "\n",
    "Step 5:{delimiter} First, politely correct the customer's incorrect \\\n",
    "assumptions if applicable. Only mention or reference services in the \\\n",
    "list of 5 available services, as these are the only 5 services that \\\n",
    "the data science consultancy offers. \\\n",
    "Answer the customer in a friendly tone.\n",
    "\n",
    "Use the following format:\n",
    "Step 1:{delimiter} <step 1 reasoning>\n",
    "Step 2:{delimiter} <step 2 reasoning>\n",
    "Step 3:{delimiter} <step 3 reasoning>\n",
    "Step 4:{delimiter} <step 4 reasoning>\n",
    "Response to user:{delimiter} <response to customer>\n",
    "\n",
    "Make sure to include {delimiter} to separate every step.\n",
    "\"\"\""
   ]
  },
  {
   "cell_type": "code",
   "execution_count": 9,
   "metadata": {},
   "outputs": [
    {
     "name": "stdout",
     "output_type": "stream",
     "text": [
      "Step 1:#### The user is asking about the price difference between the NLP project and building a dashboard.\n",
      "\n",
      "Step 2:#### The NLP project is priced at $2499.99 per project, while building a dashboard falls under the Data Visualization service, which is priced at $999.99 per visualization.\n",
      "\n",
      "Step 3:#### The assumption made by the user is that building a dashboard is the same as the Data Visualization service.\n",
      "\n",
      "Step 4:#### The assumption is true. Building a dashboard is indeed part of the Data Visualization service, which is priced at $999.99 per visualization.\n",
      "\n",
      "Response to user:#### The NLP project is $1500 more expensive than building a dashboard. The NLP project is priced at $2499.99 per project, while building a dashboard falls under the Data Visualization service, which is priced at $999.99 per visualization.\n"
     ]
    }
   ],
   "source": [
    "user_message = f\"\"\"\n",
    "by how much is the NLP project more expensive \\\n",
    "than building dashboard\"\"\"\n",
    "\n",
    "messages =  [  \n",
    "{'role':'system', \n",
    " 'content': system_message},    \n",
    "{'role':'user', \n",
    " 'content': f\"{delimiter}{user_message}{delimiter}\"},  \n",
    "] \n",
    "\n",
    "response = get_completion_from_messages(messages)\n",
    "print(response)"
   ]
  },
  {
   "cell_type": "code",
   "execution_count": 10,
   "metadata": {},
   "outputs": [
    {
     "name": "stdout",
     "output_type": "stream",
     "text": [
      "Step 1:#### The user is asking about a specific data science service, which is software development and deployment on the cloud.\n",
      "\n",
      "Step 2:#### The available data science services do not include software development and deployment on the cloud. The services offered are predictive modeling, data visualization, natural language processing, data cleaning and preprocessing, and machine learning consulting.\n",
      "\n",
      "Step 3:#### The user is assuming that the data science consultancy provides software development and deployment on the cloud as a service.\n",
      "\n",
      "Step 4:#### The assumption made by the user is not true based on the available services. The data science consultancy does not offer software development and deployment on the cloud.\n",
      "\n",
      "Response to user:#### Thank you for your inquiry. While we do not provide software development and deployment on the cloud as a service, we offer a range of other data science services such as predictive modeling, data visualization, natural language processing, data cleaning and preprocessing, and machine learning consulting. If you have any questions or need assistance with any of these services, please let us know.\n"
     ]
    }
   ],
   "source": [
    "user_message = f\"\"\"\n",
    "do you develop software and deploy it on the cloud?\"\"\"\n",
    "messages =  [  \n",
    "{'role':'system', \n",
    " 'content': system_message},    \n",
    "{'role':'user', \n",
    " 'content': f\"{delimiter}{user_message}{delimiter}\"},  \n",
    "] \n",
    "response = get_completion_from_messages(messages)\n",
    "print(response)"
   ]
  },
  {
   "cell_type": "code",
   "execution_count": null,
   "metadata": {},
   "outputs": [],
   "source": []
  },
  {
   "cell_type": "markdown",
   "metadata": {},
   "source": [
    "Inner Monologue"
   ]
  },
  {
   "cell_type": "code",
   "execution_count": 11,
   "metadata": {},
   "outputs": [
    {
     "name": "stdout",
     "output_type": "stream",
     "text": [
      "Thank you for your inquiry. While we do not provide software development and deployment on the cloud as a service, we offer a range of other data science services such as predictive modeling, data visualization, natural language processing, data cleaning and preprocessing, and machine learning consulting. If you have any questions or need assistance with any of these services, please let us know.\n"
     ]
    }
   ],
   "source": [
    "try:\n",
    "    final_response = response.split(delimiter)[-1].strip()\n",
    "except Exception as e :\n",
    "    final_response = \"Sorry, I'm having trouble right now, please try asking another question\"\n",
    "\n",
    "print(final_response)"
   ]
  },
  {
   "cell_type": "markdown",
   "metadata": {},
   "source": [
    "> This is very interesting , the step 1, 2, 3 is like back-end of the software and the step 4 is the front-end which what user will see. "
   ]
  },
  {
   "cell_type": "markdown",
   "metadata": {},
   "source": []
  }
 ],
 "metadata": {
  "kernelspec": {
   "display_name": "Python 3",
   "language": "python",
   "name": "python3"
  },
  "language_info": {
   "codemirror_mode": {
    "name": "ipython",
    "version": 3
   },
   "file_extension": ".py",
   "mimetype": "text/x-python",
   "name": "python",
   "nbconvert_exporter": "python",
   "pygments_lexer": "ipython3",
   "version": "3.11.2"
  },
  "orig_nbformat": 4
 },
 "nbformat": 4,
 "nbformat_minor": 2
}

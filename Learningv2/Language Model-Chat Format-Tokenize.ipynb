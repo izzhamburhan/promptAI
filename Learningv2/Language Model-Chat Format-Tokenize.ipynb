{
 "cells": [
  {
   "cell_type": "code",
   "execution_count": 1,
   "id": "a28217e9",
   "metadata": {},
   "outputs": [],
   "source": [
    "import os\n",
    "import openai\n",
    "import tiktoken\n",
    "from dotenv import load_dotenv, find_dotenv\n",
    "_ = load_dotenv(find_dotenv()) # read local .env file\n",
    "\n",
    "openai.api_key  = os.environ['OPENAI_API_KEY']"
   ]
  },
  {
   "cell_type": "code",
   "execution_count": 2,
   "id": "9a63811d",
   "metadata": {},
   "outputs": [],
   "source": [
    "def get_completion_from_messages(messages, \n",
    "                                 model=\"gpt-3.5-turbo\", \n",
    "                                 temperature=0, \n",
    "                                 max_tokens=500):\n",
    "    response = openai.ChatCompletion.create(\n",
    "        model=model,\n",
    "        messages=messages,\n",
    "        temperature=temperature, # this is the degree of randomness of the model's output\n",
    "        max_tokens=max_tokens, # the maximum number of tokens the model can ouptut \n",
    "    )\n",
    "    return response.choices[0].message[\"content\"]"
   ]
  },
  {
   "cell_type": "code",
   "execution_count": 3,
   "id": "1044ebd5",
   "metadata": {},
   "outputs": [
    {
     "name": "stdout",
     "output_type": "stream",
     "text": [
      "Oh, seeker of knowledge, heed my voice,\n",
      "As you embark on your internship of choice.\n",
      "Embrace the tasks with a humble heart,\n",
      "And let diligence be your shining art.\n",
      "\n",
      "Attend with zeal to every little detail,\n",
      "For excellence lies in being thorough without fail.\n",
      "Learn from mentors, absorb their wisdom,\n",
      "Their guidance will shape your professional kingdom.\n",
      "\n",
      "Seek opportunities to showcase your skills,\n",
      "And let each accomplishment give you thrills.\n",
      "Collaborate, network, and connect,\n",
      "For relationships built will, in time, reflect.\n",
      "\n",
      "Embrace challenges, don't shy away,\n",
      "They are stepping stones to a brighter day.\n",
      "Keep an open mind, be ready to adapt,\n",
      "Resilience is the trait that sets you apart.\n",
      "\n",
      "So, dear intern, let your passion ignite,\n",
      "And conquer this journey with all your might.\n",
      "For in this crucible of growth and learn,\n",
      "Lies the path that leads to success, I discern.\n"
     ]
    }
   ],
   "source": [
    "messages =  [  \n",
    "{'role':'system', \n",
    " 'content':\"\"\"You are an assistant who\\\n",
    " responds in the style of Anwar Ibrahim.\"\"\"},    \n",
    "{'role':'user', \n",
    " 'content':\"\"\"write me a very short poem\\\n",
    " about a tips for internship\"\"\"},  \n",
    "] \n",
    "response = get_completion_from_messages(messages, temperature=1)\n",
    "print(response)"
   ]
  },
  {
   "cell_type": "code",
   "execution_count": 4,
   "id": "f07ab7cf-37d9-4d38-80f6-1a98de4b7a60",
   "metadata": {},
   "outputs": [
    {
     "name": "stdout",
     "output_type": "stream",
     "text": [
      "Once upon a time, a young intern found themselves immersed in a supportive and welcoming environment, where they learned valuable skills, made lifelong friends, and experienced a genuine sense of fulfillment and joy.\n"
     ]
    }
   ],
   "source": [
    "# length\n",
    "messages =  [  \n",
    "{'role':'system', 'content':'All your responses must be one sentence long.'},    \n",
    "{'role':'user', 'content':'write me a story about a happy internship'},  \n",
    "] \n",
    "response = get_completion_from_messages(messages, temperature =1)\n",
    "print(response)"
   ]
  },
  {
   "cell_type": "code",
   "execution_count": 5,
   "id": "662b6e7e-b666-4d47-9ee9-4053584fb283",
   "metadata": {},
   "outputs": [
    {
     "name": "stdout",
     "output_type": "stream",
     "text": [
      "Once upon a time, a young student named Amir embarked on a joyful internship, where he embraced new challenges, forged meaningful friendships, and discovered his true passion.\n"
     ]
    }
   ],
   "source": [
    "# combined\n",
    "messages =  [  \n",
    "{'role':'system','content':\"\"\"You are an assistant who \\ responds in the style of Anwar Ibrahim. \\\n",
    "All your responses must be one sentence long.\"\"\"},    \n",
    "{'role':'user', 'content':\"\"\"write me a story about a happy internship\"\"\"},\n",
    "] \n",
    "response = get_completion_from_messages(messages, \n",
    "                                        temperature =1)\n",
    "print(response)"
   ]
  },
  {
   "cell_type": "code",
   "execution_count": 8,
   "id": "c6d8f84a-5404-417f-993a-19797d275186",
   "metadata": {},
   "outputs": [],
   "source": [
    "def get_completion_and_token_count(messages, \n",
    "                                   model=\"gpt-3.5-turbo\", \n",
    "                                   temperature=0, \n",
    "                                   max_tokens=500):\n",
    "    \n",
    "    response = openai.ChatCompletion.create(\n",
    "        model=model,\n",
    "        messages=messages,\n",
    "        temperature=temperature, \n",
    "        max_tokens=max_tokens,\n",
    "    )\n",
    "    \n",
    "    content = response.choices[0].message[\"content\"]\n",
    "    \n",
    "    token_dict = {\n",
    "'prompt_tokens':response['usage']['prompt_tokens'],\n",
    "'completion_tokens':response['usage']['completion_tokens'],\n",
    "'total_tokens':response['usage']['total_tokens'],\n",
    "    }\n",
    "\n",
    "    return content, token_dict"
   ]
  },
  {
   "cell_type": "code",
   "execution_count": 14,
   "id": "d1470385-804a-4183-a69b-0271291743c4",
   "metadata": {},
   "outputs": [],
   "source": [
    "messages = [\n",
    "{'role' : 'system' , 'content' : \"\"\" You are assistant who responds in the style of Dr. Anwar Ibrahim\"\"\" },\n",
    "{'role' : 'user' , 'content' : \"\"\" write me a short poem (at most 100 word) about a tips to be succes in internship\"\"\"}\n",
    "]\n",
    "response, token_dict = get_completion_and_token_count(messages)"
   ]
  },
  {
   "cell_type": "code",
   "execution_count": 15,
   "id": "6ad83940-6ae2-4e9e-8c11-ecadfa69879f",
   "metadata": {},
   "outputs": [
    {
     "name": "stdout",
     "output_type": "stream",
     "text": [
      "In the realm of internships, heed this advice,\n",
      "To thrive and succeed, let me suffice.\n",
      "First, be punctual, arrive with a smile,\n",
      "Embrace every task, go the extra mile.\n",
      "Listen and learn, absorb like a sponge,\n",
      "Ask questions aplenty, knowledge will plunge.\n",
      "Be proactive, take initiative's lead,\n",
      "Show dedication, fulfill every need.\n",
      "Network and connect, build bridges anew,\n",
      "Embrace challenges, let growth ensue.\n",
      "With passion and drive, your path will unfold,\n",
      "Success in internship, a story untold.\n"
     ]
    }
   ],
   "source": [
    "print(response)"
   ]
  },
  {
   "cell_type": "code",
   "execution_count": null,
   "id": "d65e6757-8386-4788-8c3d-cd5b8ff8a04c",
   "metadata": {},
   "outputs": [],
   "source": []
  }
 ],
 "metadata": {
  "kernelspec": {
   "display_name": "Python 3 (ipykernel)",
   "language": "python",
   "name": "python3"
  },
  "language_info": {
   "codemirror_mode": {
    "name": "ipython",
    "version": 3
   },
   "file_extension": ".py",
   "mimetype": "text/x-python",
   "name": "python",
   "nbconvert_exporter": "python",
   "pygments_lexer": "ipython3",
   "version": "3.9.13"
  }
 },
 "nbformat": 4,
 "nbformat_minor": 5
}
